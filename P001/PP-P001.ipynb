{
 "cells": [
  {
   "cell_type": "markdown",
   "metadata": {},
   "source": [
    "# INSTRUÇÃO PRÁTICA - PP-P001\n",
    "## PP - PROGRAMAÇÃO EM PYTHON\n",
    "### OBJETIVO DA ATIVIDADE\n",
    "* Adquirir o domínio dos conceitos de variáveis e tipos de dados básicos da linguagem, assim como dos operadores disponíveis;\n",
    "* Dominar as características básicas dos t* Entender o conceito de variáveis mutáveis e imutáveis e suas implicações;\n",
    "ipos de dados avançados: Listas e Tuplas."
   ]
  },
  {
   "cell_type": "markdown",
   "metadata": {},
   "source": [
    "__Exercício 1: Crie um repositório para as atividades deste módulo.__\n",
    "* A sua equipe deve criar um repositório no GitHub que será utilizado para todas as atividades deste módulo. O repositório deve conter:\n",
    "    * Um __README__ descrevendo as informações dos membros da equipe (nome e e-mail) assim como a descrição da estruturação do repositório ( que tem em cada pasta). Este README deve ser feito utilizando Markdown e ser atualizado a cada semana.  \n",
    "    * Uma pasta para cada Instrução prática. As pastas serão criadas na medida que as Instruções Práticas sejam passadas. \n",
    "    * O professor deve ser incluído como colaborador no repositório (usuário GitHub - etvorellana)\n",
    "    * A pasta desta Instrução Prática deve conter um Jupyter Notebook com as respostas de cada um dos exercícios.\n",
    "    * Cada membro da equipe deve ter uma pasta no repositório. Se recomenda também a utilização de um branch para cada desenvolvedor, independentemente de serem definidos branch para atividades específicas.\n",
    "* Publicar no moodle o endereço do repositório e o branch específico em que está desenvolvendo suas atividades."
   ]
  },
  {
   "cell_type": "markdown",
   "metadata": {},
   "source": [
    "__Exercício 2: Manipulação de variáveis de tipo inteiro, explorando as características e os limites.__\n",
    "* Durante a aula foi apresentado o tipo de dado que permite representar um subconjunto dos números inteiros, as instaâncias da classe `int`. Sobre estes tipos de dados:\n",
    "    * Demonstre como funcionam os operadores aritméticos e aritméticos compostos em Python e destaque as principais novidades e diferenças em relação ao conjunto de operadores com inteiros disponíveis em __C/C++__;\n",
    "    * Demonstre a possibilidade de representar números inteiros significativamente grandes calculando o fatorial de 30 e comparando o resultado com o maior valor inteiro que pode ser representado em __C/C++__;\n",
    "    * As variáveis numéricas são imutáveis. Demonstre com exemplos as implicações desta afirmação;\n",
    "    * Verifique quais métodos estão disponíveis para as variáveis inteiras;"
   ]
  },
  {
   "cell_type": "markdown",
   "metadata": {},
   "source": [
    "#### Resposta 2:\n",
    "* Em Python, os operadores aritméticos funcionam de maneira semelhante aos de C/C++, mas existem diferenças.<br/>\n",
    "\n",
    "Principais diferenças em relação a C/C++:<br/>\n",
    "* Divisão de Inteiros: Em Python 3, a divisão (/) entre inteiros retorna um float, enquanto em C/C++, retorna um inteiro truncado.<br/>\n",
    "* Em Python 2, a divisão entre inteiros retorna um inteiro truncado (como em C/C++) a menos que você utilize a operação // para obter a parte inteira.<br/>\n",
    "* Tipo de Dados Automático: Em Python, não há necessidade de declarar tipos de variáveis. O interpretador infere automaticamente o tipo de dado a partir do valor atribuído a ela.<br/>\n",
    "* Sem Overflow: Python lida automaticamente com valores grandes, não há o conceito de overflow como em C/C++.<br/>\n",
    "* Operador Exponenciação: Em Python, o operador de potência (**) é mais direto do que usar funções de biblioteca como pow() em C/C++.<br/>\n",
    "* Operadores Atribuídos: Python oferece uma sintaxe mais sucinta para operações que modificam e atribuem valores às variáveis.<br/>"
   ]
  },
  {
   "cell_type": "code",
   "execution_count": 2,
   "metadata": {
    "scrolled": true
   },
   "outputs": [
    {
     "name": "stdout",
     "output_type": "stream",
     "text": [
      "8\n",
      "5\n",
      "24\n",
      "5.0\n",
      "3\n",
      "2\n",
      "8\n",
      "fatorial de 30: 265252859812191058636308480000000\n",
      "ULLONG_MAX : 18446744073709551615\n",
      "\n",
      "Identidade de a: 140724634358792\n",
      "Identidade de b: 140724634358696\n",
      "As variáveis a e b possuem o mesmo valor, mas elas têm identidades diferentes.\n",
      "Isso mostra que, mesmo que dois nomes estejam atribuídos ao mesmo valor numérico,\n",
      "eles apontam para locais diferentes na memória, preservando a imutabilidade.\n",
      "\n",
      "['__abs__', '__add__', '__and__', '__bool__', '__ceil__', '__class__', '__delattr__', '__dir__', '__divmod__', '__doc__', '__eq__', '__float__', '__floor__', '__floordiv__', '__format__', '__ge__', '__getattribute__', '__getnewargs__', '__getstate__', '__gt__', '__hash__', '__index__', '__init__', '__init_subclass__', '__int__', '__invert__', '__le__', '__lshift__', '__lt__', '__mod__', '__mul__', '__ne__', '__neg__', '__new__', '__or__', '__pos__', '__pow__', '__radd__', '__rand__', '__rdivmod__', '__reduce__', '__reduce_ex__', '__repr__', '__rfloordiv__', '__rlshift__', '__rmod__', '__rmul__', '__ror__', '__round__', '__rpow__', '__rrshift__', '__rshift__', '__rsub__', '__rtruediv__', '__rxor__', '__setattr__', '__sizeof__', '__str__', '__sub__', '__subclasshook__', '__truediv__', '__trunc__', '__xor__', 'as_integer_ratio', 'bit_count', 'bit_length', 'conjugate', 'denominator', 'from_bytes', 'imag', 'numerator', 'real', 'to_bytes']\n"
     ]
    }
   ],
   "source": [
    "#Células para responder a questão 2\n",
    "a = 5 + 3  # Resultado: 8\n",
    "print(a)\n",
    "b = 7 - 2  # Resultado: 5\n",
    "print(b)\n",
    "c = 4 * 6  # Resultado: 24\n",
    "print(c)\n",
    "d = 15 / 3  # Resultado: 5.0 (em Python 3, retorna um float)\n",
    "print(d)\n",
    "e = 17 // 5  # Resultado: 3\n",
    "print(e)\n",
    "f = 17 % 5  # Resultado: 2\n",
    "print(f)\n",
    "g = 2 ** 3  # Resultado: 8\n",
    "print(g)\n",
    "#Operadores compostos\n",
    "x = 10\n",
    "x += 5  # Equivalente a x = x + 5 (x agora é 15)\n",
    "x -= 3  # Equivalente a x = x - 3 (x agora é 12)\n",
    "\n",
    "#Resltado de fatorial de 30 comparado com maior valor inteiro C/C++(Depende do compilador)\n",
    "n = 30\n",
    "factorial = 1\n",
    "\n",
    "for i in range(1, n+1):\n",
    "    factorial *= i\n",
    "\n",
    "print(\"fatorial de 30:\",factorial)\n",
    "print(\"ULLONG_MAX : 18446744073709551615\\n\")\n",
    "\n",
    "#Exemplificando variaveis numericas imutaveis\n",
    "x = 15\n",
    "y = a\n",
    "print(\"Identidade de a:\", id(a))\n",
    "print(\"Identidade de b:\", id(b))\n",
    "print(\"As variáveis a e b possuem o mesmo valor, mas elas têm identidades diferentes.\\nIsso mostra que, mesmo que dois nomes estejam atribuídos ao mesmo valor numérico,\\neles apontam para locais diferentes na memória, preservando a imutabilidade.\\n\")\n",
    "\n",
    "#metodos do tipo int em python\n",
    "print(dir(int))\n",
    "\n"
   ]
  },
  {
   "cell_type": "markdown",
   "metadata": {},
   "source": [
    "__Exercício 3: Manipulação de variáveis de tipo caractere e explorando o uso de print.__\n",
    "* Os caracteres numéricos aparecem na tabela ASCII, e em outras, numa sequência que começa pelo caractere ‘0’ até o caractere ‘9’. As strings em __Python__ são formadas por conjuntos de caracteres que podem ser tratadas também como valores numéricos. Com base nestas afirmações desenvolva um programa em __Python__ que:\n",
    "\t* Imprima na tela, utilizando cout, cada um dos caracteres numéricos e seu correspondente código numérico. Pesquise como modificar o comportamento do print para imprimir um objeto de tipo char como caractere e como número.\n",
    "\tExemplo:\n",
    "\t```\n",
    "\t‘0’ - 48\n",
    "\t‘1’ - 49\n",
    "\t…\n",
    "\t‘9’ - 57\n",
    "\t```\n",
    "\t* Modifique o exercício anterior para que a saída imprima também o código numérico em octal e em hexadecimal.\n",
    "\t* Acrescente ao código do exercício anterior a possibilidade de ler um caractere qualquer e imprima no mesmo formato do inciso anterior. Pesquise como ler um valor da entrada padrão.\n",
    "\t* Pesquise como trabalha __Python__ os caracteres especiais,‘ç’ e ‘ã’ por exemplo. Acrescente no código do exercício anterior um exemplo que demonstra como usar este recurso.     "
   ]
  },
  {
   "cell_type": "markdown",
   "metadata": {},
   "source": [
    "#### Resposta 3:"
   ]
  },
  {
   "cell_type": "code",
   "execution_count": 3,
   "metadata": {},
   "outputs": [
    {
     "name": "stdout",
     "output_type": "stream",
     "text": [
      "0  -  48\n",
      "1  -  49\n",
      "2  -  50\n",
      "3  -  51\n",
      "4  -  52\n",
      "5  -  53\n",
      "6  -  54\n",
      "7  -  55\n",
      "8  -  56\n",
      "9  -  57\n",
      "0  -  48  -  0o60  -  0x30\n",
      "1  -  49  -  0o61  -  0x31\n",
      "2  -  50  -  0o62  -  0x32\n",
      "3  -  51  -  0o63  -  0x33\n",
      "4  -  52  -  0o64  -  0x34\n",
      "5  -  53  -  0o65  -  0x35\n",
      "6  -  54  -  0o66  -  0x36\n",
      "7  -  55  -  0o67  -  0x37\n",
      "8  -  56  -  0o70  -  0x38\n",
      "9  -  57  -  0o71  -  0x39\n",
      "Digite um caractere: a\n",
      "a 97 0o141 0x61\n"
     ]
    }
   ],
   "source": [
    "#Células para responder a questão 3\n",
    "for i in range(0, 10):  \n",
    "    print(chr(48 + i), ' - ', ord(chr(48 + i)))\n",
    "    \n",
    "#Octal e hex\n",
    "for i in range(0, 10):\n",
    "    print(chr(48 + i), ' - ', ord(chr(48 + i)), ' - ', oct(ord(chr(48 + i))), ' - ', hex(ord(chr(48 + i))))\n",
    "    \n",
    "#Solicita caractere e imprime ordinal, octal e hexa.\n",
    "char = input('Digite um caractere: ')\n",
    "print(char, ord(char), oct(ord(char)), hex(ord(char)))\n",
    "\n"
   ]
  },
  {
   "cell_type": "markdown",
   "metadata": {},
   "source": [
    "Python trabalha de acordo com a codificação de caracteres utilizada no programa ou no ambiente de execução.<br/>\n",
    "Python suporta diversas codificações de caracteres, sendo a codificação padrão em muitos sistemas UTF-8<br/>\n",
    "Geralmente não enfrentará problemas, especialmente ao usar strings literais diretamente no código-fonte"
   ]
  },
  {
   "cell_type": "code",
   "execution_count": 5,
   "metadata": {},
   "outputs": [
    {
     "name": "stdout",
     "output_type": "stream",
     "text": [
      "Utilização de caracteres especiais como ç and ã!\n"
     ]
    }
   ],
   "source": [
    "#Exemplo\n",
    "texto = 'Utilização de caracteres especiais como ç and ã!'\n",
    "print(texto)\n"
   ]
  },
  {
   "cell_type": "markdown",
   "metadata": {},
   "source": [
    "__Exercício 4: Manipulação de variáveis de tipo string e explorando os métodos da classe.__\n",
    "* As variáveis de tipo string possuem uma série de funcionalidades já implementadas e seus caracteres e substrings  podem ser acessados usando indexação e _slicing_. Crie um exemplo onde:\n",
    "    * Declare uma variável `nome` atribuindo a ela seu nome completo;\n",
    "    * Pesquise por funcionalidades já implementadas nas strings e separe em duas variáveis novas seu nome do seu sobrenome;\n",
    "    * Verifique qual das duas novas variáveis antecede a outra na ordem alfabética;\n",
    "    * Verifique a quantidade de caracteres de cada uma das novas variáveis;\n",
    "    * Verifique se seu nome é uma palíndromo;"
   ]
  },
  {
   "cell_type": "markdown",
   "metadata": {},
   "source": [
    "#### Resposta 4:"
   ]
  },
  {
   "cell_type": "code",
   "execution_count": 61,
   "metadata": {},
   "outputs": [
    {
     "name": "stdout",
     "output_type": "stream",
     "text": [
      "Digite seu nome: diogo dorea\n",
      "diogo\n",
      "dorea\n",
      "diogo vem antes de dorea na ordem alfabética.\n",
      "Quantidade de caracteres no primeiro nome: 5\n",
      "Quantidade de caracteres no sobrenome: 5\n",
      "diogo dorea não é um palíndromo.\n"
     ]
    }
   ],
   "source": [
    "#Células para responder a questão 4\n",
    "nome = input(\"Digite seu nome: \")\n",
    "split = nome.split()\n",
    "primeiroNome = split[0]\n",
    "ultimoNome = split[-1]\n",
    "print(primeiroNome)\n",
    "print(ultimoNome)\n",
    "\n",
    "if primeiroNome < ultimoNome:\n",
    "    print(f\"{primeiroNome} vem antes de {ultimoNome} na ordem alfabética.\")\n",
    "elif primeiroNome > ultimoNome:\n",
    "    print(f\"{ultimoNome} vem antes de {primeiroNome} na ordem alfabética.\")\n",
    "else:\n",
    "    print(\"Os nomes são iguais na ordem alfabética.\")\n",
    "    \n",
    "tamanho_primeiro_nome = len(primeiroNome)\n",
    "tamanho_sobrenome = len(ultimoNome)\n",
    "\n",
    "print(f\"Quantidade de caracteres no primeiro nome: {tamanho_primeiro_nome}\")\n",
    "print(f\"Quantidade de caracteres no sobrenome: {tamanho_sobrenome}\")\n",
    "\n",
    "nome_formatado = primeiroNome.lower().replace(\" \", \"\")\n",
    "if nome_formatado == nome_formatado[::-1]:\n",
    "    print(f\"{nome} é um palíndromo!\")\n",
    "else:\n",
    "    print(f\"{nome} não é um palíndromo.\")\n",
    "\n",
    "\n",
    "\n",
    "#print(nome.upper())\n",
    "#print(nome.lower())\n",
    "#print(nome.capitalize())\n",
    "#print(nome.title())\n",
    "#print(nome[-1::-1])"
   ]
  },
  {
   "cell_type": "markdown",
   "metadata": {},
   "source": [
    "__Exercício 5: Manipulação de variáveis de ponto flutuante, explorando as características e os limites.__\n",
    "* Durante a aula foi apresentado o tipo de dado que permite representar um subconjunto dos números de ponto flutuante, as instâncias da classe `float`. Sobre estes tipos de dados:\n",
    "    * Demonstre como funcionam os operadores aritméticos e aritméticos compostos em Python;\n",
    "    * Utilizando o operador de exponenciação mostre qual a maior e a menor potência de 2 que pode ser representada com variáveis de ponto flutuante. \n",
    "    * As variáveis numéricas são imutáveis. Demonstre com exemplos as implicações desta afirmação;\n",
    "    * Verifique quais métodos estão disponíveis para as variáveis de ponto flutuante;"
   ]
  },
  {
   "cell_type": "code",
   "execution_count": 6,
   "metadata": {},
   "outputs": [
    {
     "name": "stdout",
     "output_type": "stream",
     "text": [
      "9.399999999999999\n",
      "5.1\n",
      "25.62\n",
      "4.514285714285714\n",
      "3\n",
      "1.700000000000002\n",
      "12.166999999999998\n",
      "Maior expoente para representação de ponto flutuante: 1024\n",
      "Menor expoente para representação de ponto flutuante: -1021\n",
      "Identidade de a: 1529890139568\n",
      "Identidade de b: 1529890139600\n",
      "As variáveis a e b possuem o mesmo valor, mas elas têm identidades diferentes.\n",
      "Isso mostra que, mesmo que dois nomes estejam atribuídos ao mesmo valor numérico,\n",
      "eles apontam para locais diferentes na memória, preservando a imutabilidade.\n",
      "\n",
      "['__abs__', '__add__', '__bool__', '__ceil__', '__class__', '__delattr__', '__dir__', '__divmod__', '__doc__', '__eq__', '__float__', '__floor__', '__floordiv__', '__format__', '__ge__', '__getattribute__', '__getformat__', '__getnewargs__', '__getstate__', '__gt__', '__hash__', '__init__', '__init_subclass__', '__int__', '__le__', '__lt__', '__mod__', '__mul__', '__ne__', '__neg__', '__new__', '__pos__', '__pow__', '__radd__', '__rdivmod__', '__reduce__', '__reduce_ex__', '__repr__', '__rfloordiv__', '__rmod__', '__rmul__', '__round__', '__rpow__', '__rsub__', '__rtruediv__', '__setattr__', '__sizeof__', '__str__', '__sub__', '__subclasshook__', '__truediv__', '__trunc__', 'as_integer_ratio', 'conjugate', 'fromhex', 'hex', 'imag', 'is_integer', 'real']\n"
     ]
    }
   ],
   "source": [
    "#Células para responder a questão 5\n",
    "a = 5.6 + 3.8  \n",
    "print(a)\n",
    "b = 7.7 - 2.6  \n",
    "print(b)\n",
    "c = 4.2 * 6.1  \n",
    "print(c)\n",
    "d = 15.8 / 3.5  \n",
    "print(d)\n",
    "e = 17 // 5  \n",
    "print(e)\n",
    "f = 17.6 % 5.3 \n",
    "print(f)\n",
    "g = 2.3 ** 3.0 \n",
    "print(g)\n",
    "#Operadores compostos\n",
    "x = 10.5\n",
    "x += 5.3  \n",
    "x -= 3  \n",
    "\n",
    "import sys\n",
    "print(\"Maior expoente para representação de ponto flutuante:\", sys.float_info.max_exp)\n",
    "print(\"Menor expoente para representação de ponto flutuante:\", sys.float_info.min_exp)\n",
    "\n",
    "#Exemplificando variaveis numericas imutaveis\n",
    "x = 15\n",
    "y = a\n",
    "print(\"Identidade de a:\", id(a))\n",
    "print(\"Identidade de b:\", id(b))\n",
    "print(\"As variáveis a e b possuem o mesmo valor, mas elas têm identidades diferentes.\\nIsso mostra que, mesmo que dois nomes estejam atribuídos ao mesmo valor numérico,\\neles apontam para locais diferentes na memória, preservando a imutabilidade.\\n\")\n",
    "\n",
    "#metodos do tipo int em python\n",
    "print(dir(float))"
   ]
  },
  {
   "cell_type": "markdown",
   "metadata": {},
   "source": [
    "__Exercício 6: Manipulando listas__\n",
    "* Dado o seguinte código, e antes de implementar, veja o que será impresso em cada caso:\n",
    "\n",
    "<img align=\"center\" style=\"padding-right:10px;\" src=\"Figuras/PP-P001_fig_01.png\">\n",
    " \n",
    "* Uma forma simplificada de determinar o seu animal no zodíaco chines é apresentada na seguinte tabela:\n",
    "\n",
    "<img align=\"center\" style=\"padding-right:10px;\" src=\"Figuras/PP-P001_fig_02.png\">\n",
    "\n",
    "Descubra qual o signo de um usuário de acordo com seu ano de nascimento.\n",
    "\n"
   ]
  },
  {
   "cell_type": "code",
   "execution_count": 7,
   "metadata": {},
   "outputs": [
    {
     "name": "stdout",
     "output_type": "stream",
     "text": [
      "[9, 8, 7, 6, 5, 4, 3, 2, 1]\n",
      "[9]\n",
      "[1, 2, 3, 4, 5, 6, 7, 8]\n",
      "[9, 7, 5, 3, 1]\n",
      "[8, 9]\n",
      "[1, 2, 3, 4, 5, 6, 7]\n",
      "Digite o ano de nascimento: 1989\n",
      "Seu signo é: Cobra\n"
     ]
    }
   ],
   "source": [
    "#Células para responder a questão 6\n",
    "L = [1,2,3,4,5,6,7,8,9]\n",
    "print(L[::-1])\n",
    "print(L[-1::])\n",
    "print(L[:-1:])\n",
    "print(L[::-2])\n",
    "print(L[-2::])\n",
    "print(L[:-2:])\n",
    "\n",
    "\n",
    "#Signo a partit do ano\n",
    "\n",
    "# Ask user for birth year\n",
    "anoNasc = int(input(\"Digite o ano de nascimento: \"))\n",
    "\n",
    "# Calculate the remainder of birth year divided by 12\n",
    "tag = anoNasc % 12\n",
    "\n",
    "# Determine the zodiac sign based on the remainder\n",
    "if tag == 0:\n",
    "    signo = \"Macaco\"\n",
    "elif tag == 1:\n",
    "    signo = \"Galo\"\n",
    "elif tag == 2:\n",
    "    signo = \"Cão\"\n",
    "elif tag == 3:\n",
    "    signo = \"Porco\"\n",
    "elif tag == 4:\n",
    "    signo = \"Rato\"\n",
    "elif tag == 5:\n",
    "    signo = \"Boi\"\n",
    "elif tag == 6:\n",
    "    signo = \"Tigre\"\n",
    "elif tag == 7:\n",
    "    signo = \"Coelho\"\n",
    "elif tag == 8:\n",
    "    signo = \"Dragão\"\n",
    "elif tag == 9:\n",
    "    signo = \"Cobra\"\n",
    "elif tag == 10:\n",
    "    signo = \"Cavalo\"\n",
    "else:\n",
    "    signo = \"Carneiro\"\n",
    "\n",
    "print(\"Seu signo é:\", signo)\n",
    "\n",
    "\n"
   ]
  }
 ],
 "metadata": {
  "kernelspec": {
   "display_name": "Python 3 (ipykernel)",
   "language": "python",
   "name": "python3"
  },
  "language_info": {
   "codemirror_mode": {
    "name": "ipython",
    "version": 3
   },
   "file_extension": ".py",
   "mimetype": "text/x-python",
   "name": "python",
   "nbconvert_exporter": "python",
   "pygments_lexer": "ipython3",
   "version": "3.11.5"
  }
 },
 "nbformat": 4,
 "nbformat_minor": 2
}
